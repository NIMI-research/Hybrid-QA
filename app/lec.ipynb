{
 "cells": [
  {
   "cell_type": "code",
   "execution_count": 14,
   "metadata": {},
   "outputs": [
    {
     "name": "stderr",
     "output_type": "stream",
     "text": [
      "c:\\Users\\Nani\\Anaconda3\\envs\\lang_chain\\Lib\\site-packages\\tqdm\\auto.py:21: TqdmWarning: IProgress not found. Please update jupyter and ipywidgets. See https://ipywidgets.readthedocs.io/en/stable/user_install.html\n",
      "  from .autonotebook import tqdm as notebook_tqdm\n"
     ]
    }
   ],
   "source": [
    "import os\n",
    "import json\n",
    "import operator\n",
    "from sentence_transformers import SentenceTransformer\n"
   ]
  },
  {
   "cell_type": "code",
   "execution_count": 15,
   "metadata": {},
   "outputs": [],
   "source": [
    "def load_sentence_transformer():\n",
    "    model = SentenceTransformer('sentence-transformers/all-MiniLM-L6-v2')\n",
    "    return model"
   ]
  },
  {
   "cell_type": "code",
   "execution_count": 16,
   "metadata": {},
   "outputs": [],
   "source": [
    "model = load_sentence_transformer()"
   ]
  },
  {
   "cell_type": "code",
   "execution_count": 18,
   "metadata": {},
   "outputs": [],
   "source": [
    "def load_dataset_for_few_shot( path):\n",
    "    questions = []\n",
    "    with open(path, \"r\") as file:\n",
    "        data = json.load(file)\n",
    "    for x in data:\n",
    "        if x.get(\"Question\") is not None:\n",
    "            questions.append(x.get(\"Question\"))\n",
    "    return questions"
   ]
  },
  {
   "cell_type": "code",
   "execution_count": 19,
   "metadata": {},
   "outputs": [],
   "source": [
    "import numpy as np\n",
    "from sentence_transformers import util\n"
   ]
  },
  {
   "cell_type": "code",
   "execution_count": 20,
   "metadata": {},
   "outputs": [],
   "source": [
    "def cos_sim( element, model, labels_sim, threshold=2):\n",
    "    x = model.encode([element])\n",
    "    res = util.dot_score(x, labels_sim)\n",
    "    res = res.squeeze()\n",
    "    y = np.array(res)\n",
    "    ind = np.argpartition(y, -threshold)[-threshold:]\n",
    "\n",
    "    ind = ind[np.argsort(y[ind])]\n",
    "    return ind"
   ]
  },
  {
   "cell_type": "code",
   "execution_count": 21,
   "metadata": {},
   "outputs": [],
   "source": [
    "def most_similar_items( question, questions, threshold=1):\n",
    "    labels_sim = model.encode(questions)\n",
    "    indexes = cos_sim(question, model, labels_sim, threshold=threshold)\n",
    "    if len(indexes) == 1:\n",
    "        res_list = operator.itemgetter(*indexes)(questions)\n",
    "    else:\n",
    "        res_list = list(operator.itemgetter(*indexes)(questions))\n",
    "    return res_list"
   ]
  },
  {
   "cell_type": "code",
   "execution_count": 24,
   "metadata": {},
   "outputs": [],
   "source": [
    "path = os.getcwd()\n",
    "dataset ='compmix'\n",
    "path = \"/home/preetam19/app_hybrid/HybridQA/app\"\n",
    "questions = load_dataset_for_few_shot(f\"{path}/data/{dataset}.json\")\n",
    "fetching_ques = most_similar_items('What actress portrayed Bella Swan?', questions)"
   ]
  },
  {
   "cell_type": "code",
   "execution_count": 46,
   "metadata": {},
   "outputs": [
    {
     "data": {
      "text/plain": [
       "[\"What was the name of lucille ball's character on i love lucy?\",\n",
       " 'Who was the narrator of the novel moby-dick ?',\n",
       " 'What is the central theme of the breaking bad television series?',\n",
       " 'When was the author of mirrorshades born?',\n",
       " 'What is the release year of game of thrones?',\n",
       " 'Who directed raiders of the lost ark?',\n",
       " 'Who was the creator of sherlock holmes?',\n",
       " 'Creator of the the wheel of time?',\n",
       " 'Who wrote the immortals of meluha?',\n",
       " 'What is the original language of the movie lord of the rings?',\n",
       " 'What was the narrative location of the book \"wuthering heights \"?',\n",
       " 'What is the position played by franz beckenbauer?',\n",
       " 'Who created the riverdale television series?',\n",
       " 'What is the total number of emmy awards received by amy sherman-palladino?',\n",
       " 'What is the country of origin of the tv series coupling?',\n",
       " 'How many seasons of the emily in paris series?',\n",
       " 'Who was the author for pride and prejudice book?',\n",
       " 'Who is the director tv series alice in borderland?',\n",
       " 'How many filmed episodes of the dukes of hazzard are there?',\n",
       " \"What british sitcom is three's company an adaptation of?\"]"
      ]
     },
     "execution_count": 46,
     "metadata": {},
     "output_type": "execute_result"
    }
   ],
   "source": [
    "questions"
   ]
  },
  {
   "cell_type": "code",
   "execution_count": 40,
   "metadata": {},
   "outputs": [],
   "source": [
    "from enchant.utils import levenshtein"
   ]
  },
  {
   "cell_type": "code",
   "execution_count": null,
   "metadata": {},
   "outputs": [],
   "source": [
    "def levenshtein_distance(ques, final_list):\n",
    "\n",
    "    q = most_similar_items(\"When was the author of mirrorshades born?\", ques)\n",
    "\n",
    "    K = q * final_list * q\n",
    "    obj_log_det = LogDeterminantFunction(n=20,\n",
    "                                        mode=\"dense\",\n",
    "                                        lambdaVal=0,\n",
    "                                        sijs=K)\n",
    "    greedy_indices_and_scores = obj_log_det.maximize(budget=3,\n",
    "                                                        optimizer='NaiveGreedy',\n",
    "                                                        stopIfZeroGain=False,\n",
    "                                                        stopIfNegativeGain=False,\n",
    "                                                        verbose=False)\n",
    "\n",
    "    greedy_indices, greedy_scores = zip(*greedy_indices_and_scores)\n",
    "    return greedy_indices"
   ]
  },
  {
   "cell_type": "code",
   "execution_count": 44,
   "metadata": {},
   "outputs": [],
   "source": [
    "with open(f\"{path}/data/{dataset}.json\", \"r\") as file:\n",
    "        data = json.load(file)\n",
    "        action_sequence = \"\"\n",
    "        action_sequence_list = []\n",
    "        final_template = \"\"\n",
    "        ques = []\n",
    "        for idx, x in enumerate(data):\n",
    "                action_sequence_list.append(x.get(\"Action_Sequence\"))\n",
    "                ques.append(x.get(\"Question\"))\n",
    "                final_list = []\n",
    "                for i in action_sequence_list:\n",
    "                        x = []\n",
    "                        for j in action_sequence_list:\n",
    "                                x.append(1 - levenshtein(i, j)/max(len(i),len(j)))\n",
    "                        final_list.append(x)\n",
    "                final_list = np.array(final_list)\n",
    "        indices = levenshtein_distance(ques, final_list)\n",
    "        final_template = f\"Example 1:{data[indices[0]].get('One_Shot')}\\n\\nExample 2:\\n\\n{data[indices[1]].get('One_Shot')}\\n\\nExample 3:\\n\\n{data[indices[2]].get('One_Shot')}\"\n"
   ]
  },
  {
   "cell_type": "code",
   "execution_count": 43,
   "metadata": {},
   "outputs": [
    {
     "data": {
      "text/plain": [
       "{'Question': \"What was the name of lucille ball's character on i love lucy?\",\n",
       " 'Dataset': 'Compmix',\n",
       " 'Action_Sequence': '\\tWikiSearch\\tGetWikidataID\\tGenerateSparql\\tRunSparql\\tRunSparql\\tGetLabel',\n",
       " 'One_Shot': \"Question:What was the name of lucille ball's character on i love lucy?\\n\\n\\nThought:A good first step is to retrieve information about I love lucy.\\n\\nAction:WikiSearch\\n\\nAction Input: i love lucy\\n\\nObservation: Page: I Love Lucy\\nSummary: I Love Lucy is an American television sitcom that aired from 1951 to 1957, starring Lucille Ball, Desi Arnaz, Vivian Vance, and William Frawley. The series follows the life of Lucy Ricardo (Ball), a young, middle-class housewife living in New York City, who often concocts plans with her best friends and landlords, Ethel and Fred Mertz (Vance and Frawley), to appear alongside her bandleader husband, Ricky Ricardo (Arnaz), in his nightclub. The show was highly popular and influential, winning five Emmy Awards and being voted the 'Best TV Show of All Time' in a 2012 survey.\\nThought:According to the Wikipedia page, the character Lucy Ricardo is played by Ball in the series. Hence, Lucy Ricardo should be the correct answer. In a next step, this should be verified in Wikidata. To query Wikidata, the entity ID of “I love Lucy” should be obtained.\\n\\nAction:GetWikidataID\\n\\nAction Input: I Love Lucy\\n\\nObservation: ['Q181943']\\nThought:With the QID, next step is to construct the SPARQL query to query over Wikidatal\\n\\nAction:GenerateSparql\\n\\nAction Input: Q181943\\n\\nObservation: SELECT DISTINCT ?x1 WHERE {{ ?x1 wdt:P31 <P1441:fictional_character> . ?x1 p:P674 ?x2 . ?x2 ps:P674 wd:Q181943 . FILTER (wd:Q202444 = <P1705:name>) . }}\\nThought:A query was generated. To verify whether the query is indeed correct, it should be executed on Wikidata.\\n\\nAction:RunSparql\\n\\nAction Input: SELECT DISTINCT ?x1 WHERE {{ ?x1 wdt:P31 . ?x1 p:P674 ?x2 . ?x2 ps:P674 wd:Q181943 . FILTER (wd:Q202444 = ) . }}\\n\\nObservation: That query failed. Perhaps you could try a different one? Maybe check the syntax, maybe double quotes etc!\\nThought:The query constructed seems to be incomplete, and P161: character role might be the correct property rather than P674: characters. \\n\\nAction:RunSparql\\n\\nAction Input: SELECT ?x1 WHERE {{ wd:Q181943 p:P161 ?x2. ?x2 ps:P161 wd:Q209662; pq:P453 ?x1.}}\\n\\nObservation: [{{'value': 'http://www.wikidata.org/entity/Q17379228'}}]\\nThought:The responses are QID’s. To get the natural language responses, they need to be converted to labels. Now will get the Label\\n\\nAction:GetLabel\\n\\nAction Input: [Q17379228]\\n\\nObservation: ['Lucy']\\nFinal Answer: Wikipedia_Answer:Lucy Ricardo, Wikidata_Answer: [Lucy]\\n\\nAssistant Response: The character that Lucille Ball played in the American TV sitcom 'I love Lucy' was Lucy Ricardo - a young, middle-class housewife living in New York City. The information was confirmed in the Wikipedia page of the series as well as in the Wikidata knowledge graph.\"}"
      ]
     },
     "execution_count": 43,
     "metadata": {},
     "output_type": "execute_result"
    }
   ],
   "source": [
    "data[0]"
   ]
  },
  {
   "cell_type": "code",
   "execution_count": 35,
   "metadata": {},
   "outputs": [
    {
     "ename": "NameError",
     "evalue": "name 'self' is not defined",
     "output_type": "error",
     "traceback": [
      "\u001b[1;31m---------------------------------------------------------------------------\u001b[0m",
      "\u001b[1;31mNameError\u001b[0m                                 Traceback (most recent call last)",
      "Cell \u001b[1;32mIn[35], line 10\u001b[0m\n\u001b[0;32m      4\u001b[0m         final_template \u001b[38;5;241m=\u001b[39m (\n\u001b[0;32m      5\u001b[0m             \u001b[38;5;124mf\u001b[39m\u001b[38;5;124m\"\u001b[39m\u001b[38;5;124mExample 1: \u001b[39m\u001b[38;5;130;01m\\n\u001b[39;00m\u001b[38;5;130;01m\\n\u001b[39;00m\u001b[38;5;132;01m{\u001b[39;00mfinal_template\u001b[38;5;132;01m}\u001b[39;00m\u001b[38;5;132;01m{\u001b[39;00mx\u001b[38;5;241m.\u001b[39mget(\u001b[38;5;124m'\u001b[39m\u001b[38;5;124mOne_Shot\u001b[39m\u001b[38;5;124m'\u001b[39m)\u001b[38;5;132;01m}\u001b[39;00m\u001b[38;5;124m\"\u001b[39m\n\u001b[0;32m      6\u001b[0m         )\n\u001b[0;32m      7\u001b[0m     action_sequence_list\u001b[38;5;241m.\u001b[39mappend(\n\u001b[0;32m      8\u001b[0m         x\u001b[38;5;241m.\u001b[39mget(\u001b[38;5;124m\"\u001b[39m\u001b[38;5;124mAction_Sequence\u001b[39m\u001b[38;5;124m\"\u001b[39m)\u001b[38;5;241m.\u001b[39mstrip()\u001b[38;5;241m.\u001b[39mstrip(\u001b[38;5;124m\"\u001b[39m\u001b[38;5;130;01m\\t\u001b[39;00m\u001b[38;5;124m\"\u001b[39m)\n\u001b[0;32m      9\u001b[0m     )\n\u001b[1;32m---> 10\u001b[0m similar_sequences \u001b[38;5;241m=\u001b[39m \u001b[38;5;28;43mself\u001b[39;49m\u001b[38;5;241m.\u001b[39mmodel\u001b[38;5;241m.\u001b[39mencode(action_sequence_list)\n\u001b[0;32m     11\u001b[0m \u001b[38;5;28;01mif\u001b[39;00m \u001b[38;5;28mself\u001b[39m\u001b[38;5;241m.\u001b[39mcos:\n\u001b[0;32m     12\u001b[0m     \u001b[38;5;28mprint\u001b[39m(\u001b[38;5;124mf\u001b[39m\u001b[38;5;124m\"\u001b[39m\u001b[38;5;124mdoing cos max\u001b[39m\u001b[38;5;124m\"\u001b[39m)\n",
      "\u001b[1;31mNameError\u001b[0m: name 'self' is not defined"
     ]
    }
   ],
   "source": [
    "for idx, x in enumerate(data):\n",
    "    if x.get(\"Question\").strip() == fetching_ques.strip():\n",
    "        action_sequence = x.get(\"Action_Sequence\").strip().strip(\"\\t\")\n",
    "        final_template = (\n",
    "            f\"Example 1: \\n\\n{final_template}{x.get('One_Shot')}\"\n",
    "        )\n",
    "    action_sequence_list.append(\n",
    "        x.get(\"Action_Sequence\").strip().strip(\"\\t\")\n",
    "    )\n",
    "similar_sequences = self.model.encode(action_sequence_list)\n",
    "if self.cos:\n",
    "    print(f\"doing cos max\")\n",
    "    indexes = self.cos_sim_least(\n",
    "        action_sequence, self.model, similar_sequences, 3, most_similar=True\n",
    "    )\n",
    "    final_template = f\"Example 1:{final_template}\\n\\nExample 2:\\n\\n{data[indexes[1]].get('One_Shot')}\\n\\nExample 3:\\n\\n{data[indexes[2]].get('One_Shot')}\"\n",
    "elif self.div:\n",
    "    print(f\"doing cos min\")\n",
    "    indexes = self.cos_sim_least(\n",
    "        action_sequence,\n",
    "        self.model,\n",
    "        similar_sequences,\n",
    "        10,\n",
    "        most_similar=False,\n",
    "    )\n",
    "    selected_indices = random.sample(list(indexes), 3)\n",
    "    final_template = f\"Example 1:{data[selected_indices[0]].get('One_Shot')}\\n\\nExample 2:\\n\\n{data[selected_indices[1]].get('One_Shot')}\\n\\nExample 3:\\n\\n{data[selected_indices[2]].get('One_Shot')}\"\n",
    "else:\n",
    "    print(\"cos general\")\n",
    "    indexes = self.cos_sim_least(\n",
    "        action_sequence, self.model, similar_sequences, 2\n",
    "    )\n",
    "    final_template = f\"{final_template}\\n\\nExample 2:\\n\\n{data[indexes[0]].get('One_Shot')}\\n\\nExample 3:\\n\\n{data[indexes[1]].get('One_Shot')}\"\n"
   ]
  },
  {
   "cell_type": "code",
   "execution_count": null,
   "metadata": {},
   "outputs": [],
   "source": []
  }
 ],
 "metadata": {
  "kernelspec": {
   "display_name": "dpp",
   "language": "python",
   "name": "python3"
  },
  "language_info": {
   "codemirror_mode": {
    "name": "ipython",
    "version": 3
   },
   "file_extension": ".py",
   "mimetype": "text/x-python",
   "name": "python",
   "nbconvert_exporter": "python",
   "pygments_lexer": "ipython3",
   "version": "3.11.3"
  }
 },
 "nbformat": 4,
 "nbformat_minor": 2
}
